{
 "cells": [
  {
   "cell_type": "markdown",
   "metadata": {},
   "source": [
    "# Showcase YouTube Data Tools\n",
    "\n",
    "## Background\n",
    "Practical application of the [YouTube Data Tool (YTDT)](https://tools.digitalmethods.net/netvizz/youtube/) using the example of Mai Thi Nguyen-Kim ( [<img src=\"https://raw.githubusercontent.com/FortAwesome/Font-Awesome/6.x/svgs/brands/twitter.svg\" width=\"15\" height=\"15\">](https://twitter.com/maithi_nk) | [<img src=\"https://raw.githubusercontent.com/FortAwesome/Font-Awesome/6.x/svgs/brands/instagram.svg\" width=\"15\" height=\"15\">](https://twitter.com/maithi_nk) ) and her <img src=\"https://raw.githubusercontent.com/FortAwesome/Font-Awesome/6.x/svgs/brands/youtube.svg\" width=\"15\" height=\"15\"> Channel [maiLab](https://www.youtube.com/c/maiLab)."
   ]
  },
  {
   "cell_type": "markdown",
   "metadata": {},
   "source": [
    "## Exercise 1\n",
    "* Use the [`Channel Search`](https://tools.digitalmethods.net/netvizz/youtube/mod_channels_search.php) site/function of the `YTDT` to find the (correct) `channel ID` for the <img src=\"https://raw.githubusercontent.com/FortAwesome/Font-Awesome/6.x/svgs/brands/youtube.svg\" width=\"15\" height=\"15\"> Channel [maiLab](https://www.youtube.com/c/maiLab). \n",
    "* Therefore, enter \"*maiLab*\" in the field `Search query` and download the results as `.csv`. \n",
    "* Open the file and search extract the correct channel ID.\\\n",
    "  *Hint:*  If in doubt, use [`Channel Info`](https://tools.di\n"
   ]
  },
  {
   "cell_type": "code",
   "execution_count": 1,
   "metadata": {
    "vscode": {
     "languageId": "r"
    }
   },
   "outputs": [
    {
     "name": "stderr",
     "output_type": "stream",
     "text": [
      "── \u001b[1mAttaching packages\u001b[22m ─────────────────────────────────────── tidyverse 1.3.2 ──\n",
      "\u001b[32m✔\u001b[39m \u001b[34mggplot2\u001b[39m 3.4.0      \u001b[32m✔\u001b[39m \u001b[34mdplyr  \u001b[39m 1.0.10\n",
      "\u001b[32m✔\u001b[39m \u001b[34mtibble \u001b[39m 3.1.8      \u001b[32m✔\u001b[39m \u001b[34mstringr\u001b[39m 1.4.1 \n",
      "\u001b[32m✔\u001b[39m \u001b[34mtidyr  \u001b[39m 1.2.1      \u001b[32m✔\u001b[39m \u001b[34mforcats\u001b[39m 0.5.2 \n",
      "\u001b[32m✔\u001b[39m \u001b[34mpurrr  \u001b[39m 0.3.5      \n",
      "── \u001b[1mConflicts\u001b[22m ────────────────────────────────────────── tidyverse_conflicts() ──\n",
      "\u001b[31m✖\u001b[39m \u001b[34mdplyr\u001b[39m::\u001b[32mfilter()\u001b[39m masks \u001b[34mstats\u001b[39m::filter()\n",
      "\u001b[31m✖\u001b[39m \u001b[34mdplyr\u001b[39m::\u001b[32mlag()\u001b[39m    masks \u001b[34mstats\u001b[39m::lag()\n",
      "\u001b[1mRows: \u001b[22m\u001b[34m50\u001b[39m \u001b[1mColumns: \u001b[22m\u001b[34m10\u001b[39m\n",
      "\u001b[36m──\u001b[39m \u001b[1mColumn specification\u001b[22m \u001b[36m────────────────────────────────────────────────────────\u001b[39m\n",
      "\u001b[1mDelimiter:\u001b[22m \",\"\n",
      "\u001b[31mchr\u001b[39m  (5): id, title, description, defaultLanguage, country\n",
      "\u001b[32mdbl\u001b[39m  (4): position, viewCount, subscriberCount, videoCount\n",
      "\u001b[34mdttm\u001b[39m (1): publishedAt\n",
      "\n",
      "\u001b[36mℹ\u001b[39m Use `spec()` to retrieve the full column specification for this data.\n",
      "\u001b[36mℹ\u001b[39m Specify the column types or set `show_col_types = FALSE` to quiet this message.\n"
     ]
    },
    {
     "name": "stdout",
     "output_type": "stream",
     "text": [
      "Rows: 50\n",
      "Columns: 10\n",
      "$ position        \u001b[3m\u001b[90m<dbl>\u001b[39m\u001b[23m 1, 2, 3, 4, 5, 6, 7, 8, 9, 10, 11, 12, 13, 14, 15, 16,…\n",
      "$ id              \u001b[3m\u001b[90m<chr>\u001b[39m\u001b[23m \"UCyHDQ5C6z1NDmJ4g6SerW8g\", \"UC146qqkUMTrn4nfSSOTNwiA\"…\n",
      "$ title           \u001b[3m\u001b[90m<chr>\u001b[39m\u001b[23m \"maiLab\", \"musstewissen Chemie\", \"mailab\", \"MAILab_메…\n",
      "$ description     \u001b[3m\u001b[90m<chr>\u001b[39m\u001b[23m \"Holt euch einen Tee, Freunde der Sonne, macht es euch…\n",
      "$ publishedAt     \u001b[3m\u001b[90m<dttm>\u001b[39m\u001b[23m 2016-09-08 14:13:08, 2016-09-23 09:24:14, 2020-03-19 …\n",
      "$ defaultLanguage \u001b[3m\u001b[90m<chr>\u001b[39m\u001b[23m NA, NA, NA, NA, NA, NA, NA, NA, NA, NA, NA, NA, NA, NA…\n",
      "$ country         \u001b[3m\u001b[90m<chr>\u001b[39m\u001b[23m \"DE\", \"DE\", \"DE\", \"KR\", NA, NA, NA, NA, NA, \"DE\", NA, …\n",
      "$ viewCount       \u001b[3m\u001b[90m<dbl>\u001b[39m\u001b[23m 127882489, 18039348, 21013, 5101, 11, 2, 2, 5004, 230,…\n",
      "$ subscriberCount \u001b[3m\u001b[90m<dbl>\u001b[39m\u001b[23m 1480000, 190000, 146, 26, 0, 1, 1, 9, 9, 66300, 0, 2, …\n",
      "$ videoCount      \u001b[3m\u001b[90m<dbl>\u001b[39m\u001b[23m 186, 45, 9, 104, 3, 1, 1, 24, 12, 51, 1, 6, 31, 1, 2, …\n"
     ]
    }
   ],
   "source": [
    "# Load packages\n",
    "library(readr)\n",
    "library(tidyverse)\n",
    "\n",
    "# Import data\n",
    "channel_list <- read_csv(\"data/channelsearch_channels50_2022_11_17-09_54_22.csv\")\n",
    "\n",
    "# Preview data \n",
    "channel_list %>% glimpse()"
   ]
  }
 ],
 "metadata": {
  "kernelspec": {
   "display_name": "R",
   "language": "R",
   "name": "ir"
  },
  "language_info": {
   "codemirror_mode": "r",
   "file_extension": ".r",
   "mimetype": "text/x-r-source",
   "name": "R",
   "pygments_lexer": "r",
   "version": "4.2.2"
  },
  "orig_nbformat": 4
 },
 "nbformat": 4,
 "nbformat_minor": 2
}
